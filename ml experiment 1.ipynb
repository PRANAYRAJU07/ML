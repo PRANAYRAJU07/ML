{
 "cells": [
  {
   "cell_type": "code",
   "execution_count": 2,
   "id": "6c25eed1",
   "metadata": {},
   "outputs": [
    {
     "name": "stdout",
     "output_type": "stream",
     "text": [
      "Original dataset:\n",
      "   PassengerId     Name   Age   Fare  Survived\n",
      "0            1     John  22.0   7.25         0\n",
      "1            2     Jane   NaN  71.25         1\n",
      "2            3      Bob  25.0    NaN         1\n",
      "3            4    Alice   NaN   8.05         0\n",
      "4            5  Charlie  30.0  10.50         1\n",
      "\n",
      "Cleaned dataset:\n",
      "   PassengerId     Name        Age     Fare  Survived\n",
      "0          1.0     John  22.000000   7.2500       0.0\n",
      "1          2.0     Jane  25.666667  71.2500       1.0\n",
      "2          3.0      Bob  25.000000  24.2625       1.0\n",
      "3          4.0    Alice  25.666667   8.0500       0.0\n",
      "4          5.0  Charlie  30.000000  10.5000       1.0\n"
     ]
    }
   ],
   "source": [
    "import pandas as pd\n",
    "from sklearn.impute import SimpleImputer\n",
    "\n",
    "def generate_example_dataset():\n",
    "    data = {\n",
    "        'PassengerId': [1, 2, 3, 4, 5],\n",
    "        'Name': ['John', 'Jane', 'Bob', 'Alice', 'Charlie'],\n",
    "        'Age': [22, None, 25, None, 30],\n",
    "        'Fare': [7.25, 71.25, None, 8.05, 10.5],\n",
    "        'Survived': [0, 1, 1, 0, 1]\n",
    "    }\n",
    "    return pd.DataFrame(data)\n",
    "\n",
    "def clean_dataset(df):\n",
    "    print(\"Original dataset:\")\n",
    "    print(df)\n",
    "    numeric_df = df.select_dtypes(include='number')\n",
    "    imputer = SimpleImputer(strategy='mean')\n",
    "    df_cleaned = pd.DataFrame(imputer.fit_transform(numeric_df), columns=numeric_df.columns)\n",
    "    df[numeric_df.columns] = df_cleaned\n",
    "    print(\"\\nCleaned dataset:\")\n",
    "    print(df)\n",
    "if __name__ == \"__main__\":\n",
    "    example_dataset = generate_example_dataset()\n",
    "    clean_dataset(example_dataset)"
   ]
  },
  {
   "cell_type": "code",
   "execution_count": null,
   "id": "3471041b",
   "metadata": {},
   "outputs": [],
   "source": []
  }
 ],
 "metadata": {
  "kernelspec": {
   "display_name": "Python 3 (ipykernel)",
   "language": "python",
   "name": "python3"
  },
  "language_info": {
   "codemirror_mode": {
    "name": "ipython",
    "version": 3
   },
   "file_extension": ".py",
   "mimetype": "text/x-python",
   "name": "python",
   "nbconvert_exporter": "python",
   "pygments_lexer": "ipython3",
   "version": "3.11.4"
  }
 },
 "nbformat": 4,
 "nbformat_minor": 5
}
